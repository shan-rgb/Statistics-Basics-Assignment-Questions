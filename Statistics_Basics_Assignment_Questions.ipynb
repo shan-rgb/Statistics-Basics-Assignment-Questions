{
  "nbformat": 4,
  "nbformat_minor": 0,
  "metadata": {
    "colab": {
      "provenance": []
    },
    "kernelspec": {
      "name": "python3",
      "display_name": "Python 3"
    },
    "language_info": {
      "name": "python"
    }
  },
  "cells": [
    {
      "cell_type": "markdown",
      "source": [
        "# **Statistics Basics**"
      ],
      "metadata": {
        "id": "ypMcOyhtslO1"
      }
    },
    {
      "cell_type": "markdown",
      "source": [
        "Q1. Explain the different types of data (qualitative and quantitative) and provide examples of each. Discuss nominal, ordinal, interval, and ratio scales.\n",
        "\n",
        "Ans: **Qualitative Data:** Non-numeric, descriptive data that categorizes items.\n",
        "\n",
        "\n",
        "Examples:\n",
        "Colors of cars (red, blue, black).\n",
        "Types of cuisine (Italian, Chinese).\n",
        "Scales:\n",
        "\n",
        "*Nominal* : Data without order. Example: Gender (male, female).\n",
        "\n",
        "*Ordinal* : Ordered data without fixed intervals. Example: Movie ratings (poor, average, good).\n",
        "\n",
        "\n",
        "\n",
        "**Quantitative Data:** Numeric data representing measurable quantities.\n",
        "\n",
        "\n",
        "Examples:\n",
        "Height of students (in cm).\n",
        "Number of books on a shelf.\n",
        "Scales:\n",
        "\n",
        "*Interval*: Data with meaningful intervals but no true zero. Example: Temperature in Celsius.\n",
        "\n",
        "*Ratio:* Data with a true zero and meaningful intervals. Example: Weight (in kg).\n",
        "\n"
      ],
      "metadata": {
        "id": "3bZsMhQrchUE"
      }
    },
    {
      "cell_type": "markdown",
      "source": [
        "Q2. What are the measures of central tendency, and when should you use each? Discuss the mean, median, and mode with examples and situations where each is appropriate.\n",
        "\n",
        "Ans:\n",
        "**Mean:** Average value. Used for symmetrical, quantitative data.\n",
        "Example: Average test score in a class.\n",
        "\n",
        "**Median:** Middle value when data is sorted. Best for skewed data.\n",
        "Example: Median house prices to avoid skew by luxury properties.\n",
        "\n",
        "**Mode:** bold text Most frequent value. Useful for categorical data.\n",
        "Example: The most popular pizza topping in a survey.\n"
      ],
      "metadata": {
        "id": "K6dg3kKdg9WN"
      }
    },
    {
      "cell_type": "markdown",
      "source": [
        "Q3. Explain the concept of dispersion. How do variance and standard deviation measure the spread of data?\n",
        "\n",
        "Ans: **Dispersion:** Measures the spread of data around the central value.\n",
        "\n",
        "*Variance:* Average squared difference from the mean.\n",
        "\n",
        "*Standard Deviation:* Square root of variance, in the same units as data.\n",
        "\n",
        "Example: A smaller standard deviation in students' test scores means performance is consistent.\n"
      ],
      "metadata": {
        "id": "quTkR6ZZhwVo"
      }
    },
    {
      "cell_type": "markdown",
      "source": [
        "Q4. What is a box plot, and what can it tell you about the distribution of data?\n",
        "\n",
        "Ans: A visual summary of data distribution.\n",
        "\n",
        "Components: Median, quartiles, whiskers, and outliers.\n",
        "\n",
        "Insights: Shows skewness, spread, and potential outliers.\n"
      ],
      "metadata": {
        "id": "xtnWM9iEiXOm"
      }
    },
    {
      "cell_type": "markdown",
      "source": [
        "Q5. Discuss the role of random sampling in making inferences about populations.\n",
        "\n",
        "\n",
        "Ans: Role: Ensures a representative subset of the population.\n",
        "Reduces bias, enabling accurate inferences.\n",
        "\n",
        "Example: Surveying a random group of voters to predict election outcomes.\n"
      ],
      "metadata": {
        "id": "MuVC32GUlEye"
      }
    },
    {
      "cell_type": "markdown",
      "source": [
        "Q6. Explain the concept of skewness and its types. How does skewness affect the interpretation of data?\n",
        "\n",
        "Ans: Measures the asymmetry of data distribution.\n",
        "\n",
        "**Types:**\n",
        "*Positive Skew:* Tail on the right (e.g., income distribution).\n",
        "\n",
        "*Negative Skew:* Tail on the left (e.g., age at retirement).\n",
        "\n",
        "**Impact**: Skewed data affects the mean more than the median.\n"
      ],
      "metadata": {
        "id": "BbABJeyxnP6H"
      }
    },
    {
      "cell_type": "markdown",
      "source": [
        "Q7. What is the interquartile range (IQR), and how is it used to detect outliers?\n",
        "\n",
        "Ans: Range between the first (Q1) and third quartiles (Q3).\n",
        "\n",
        "*Formula:* IQR=Q3−Q1IQR = Q3 - Q1.\n",
        "\n",
        "*Outliers:* Points beyond Q1−1.5×IQRQ1 - 1.5 \\times IQR or Q3+1.5×IQRQ3 + 1.5 \\times IQR.\n"
      ],
      "metadata": {
        "id": "U5z9Mj5SnpWB"
      }
    },
    {
      "cell_type": "markdown",
      "source": [
        "Q8. Discuss the conditions under which the binomial distribution is used.\n",
        "\n",
        "Ans: **Conditions:**\n",
        "\n",
        "*Fixed number of trials.*\n",
        "\n",
        "*Only two outcomes (success or failure).*\n",
        "\n",
        "*Constant probability of success.*\n",
        "\n",
        "*Independent trials.*\n",
        "\n",
        "**Example:** Tossing a coin 10 times to count heads.\n"
      ],
      "metadata": {
        "id": "QfJbWeCIoYun"
      }
    },
    {
      "cell_type": "markdown",
      "source": [
        "Q9. Explain the properties of the normal distribution and the empirical rule (68-95-99.7 rule).\n",
        "\n",
        "Ans: **Properties:** Symmetrical, bell-shaped, mean = median = mode.\n",
        "\n",
        "**Empirical Rule:**\n",
        "68%68\\%: Data within 1 standard deviation.\n",
        "\n",
        "95%95\\%: Data within 2 standard deviations.\n",
        "\n",
        "99.7%99.7\\%: Data within 3 standard deviations.\n"
      ],
      "metadata": {
        "id": "FEsz--5dpHEe"
      }
    },
    {
      "cell_type": "markdown",
      "source": [
        "Q10. Provide a real-life example of a Poisson process and calculate the probability for a specific event.\n",
        "\n",
        "Ans: *Real-life Example:* Number of emails received per hour.\n",
        "\n",
        "*Calculation:* If the average is 5 emails/hour, probability of 7 emails in an hour:\n",
        "\n",
        " P(X=7)=λke−λk!P(X=7) = \\frac{\\lambda^k e^{-\\lambda}}{k!}, where λ=5\\lambda = 5, k=7k = 7."
      ],
      "metadata": {
        "id": "5VVvish8pjEB"
      }
    },
    {
      "cell_type": "markdown",
      "source": [
        "Q11. Explain what a random variable is and differentiate between discrete and continuous random variables.\n",
        "\n",
        "Ans: **Definition:** A variable representing possible outcomes of a random experiment.\n",
        "\n",
        "*Discrete:* Countable values. Example: Number of heads in coin tosses.\n",
        "\n",
        "*Continuous:* Infinite values in a range. Example: Heights of people."
      ],
      "metadata": {
        "id": "BCunNYrVqG9m"
      }
    },
    {
      "cell_type": "markdown",
      "source": [
        "Q12. Provide an example dataset, calculate both covariance and correlation, and interpret the results.\n",
        "\n",
        "Ans: Dataset:\n",
        "\n",
        "X:[2,4,6]X: [2, 4, 6], Y:[3,5,7]Y: [3, 5, 7].\n",
        "\n",
        "Covariance: Measures the direction of the relationship.\n",
        "\n",
        "Correlation: Scaled covariance (−1-1 to +1+1), measures strength and direction.\n"
      ],
      "metadata": {
        "id": "J1Q65EhWq_ig"
      }
    }
  ]
}